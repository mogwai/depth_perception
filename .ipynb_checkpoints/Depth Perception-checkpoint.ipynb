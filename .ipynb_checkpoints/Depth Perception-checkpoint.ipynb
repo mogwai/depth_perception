{
 "cells": [
  {
   "cell_type": "markdown",
   "metadata": {},
   "source": [
    "# Depth Segmentation"
   ]
  },
  {
   "cell_type": "markdown",
   "metadata": {},
   "source": [
    "In this notebook I attempt to train a unet model to predict depth and fail :)"
   ]
  },
  {
   "cell_type": "code",
   "execution_count": 1,
   "metadata": {},
   "outputs": [],
   "source": [
    "%reload_ext autoreload\n",
    "%autoreload 2\n",
    "%matplotlib inline\n",
    "import numpy as np\n",
    "import torch.utils.data\n",
    "import h5py\n",
    "from fastai.utils.mem import gpu_mem_get_all\n",
    "from fastai.vision import *\n",
    "import os\n",
    "from IPython.core.debugger import set_trace\n",
    "\n",
    "path  = Path(os.path.abspath('.'))\n",
    "path_lbl = path/'labels'\n",
    "path_img = path/'images'"
   ]
  },
  {
   "cell_type": "markdown",
   "metadata": {},
   "source": [
    "#### Cuda crash error\n",
    "\n",
    "I found that using the CPU showed me more information for crash errors such as:\n",
    "\n",
    "\n",
    "```\n",
    "RuntimeError: cuda runtime error (59) : device-side assert triggered at /opt/conda/conda-bld/pytorch-nightly_1541497631545/work/aten/src/THC/generic/THCTensorCopy.cpp:20\n",
    "\n",
    "```\n",
    "Using this I solved the problem\n",
    "\n",
    "```python\n",
    "defaults.device = 'gpu'\n",
    "```"
   ]
  },
  {
   "cell_type": "markdown",
   "metadata": {},
   "source": [
    "## Loading the Data"
   ]
  },
  {
   "cell_type": "code",
   "execution_count": null,
   "metadata": {},
   "outputs": [],
   "source": [
    "url = 'http://horatio.cs.nyu.edu/mit/silberman/nyu_depth_v2/nyu_depth_v2_labeled.mat'\n",
    "dst = './data/nyu_depth_v2_labeled.mat'\n",
    "download_url(url, dst)"
   ]
  },
  {
   "cell_type": "code",
   "execution_count": null,
   "metadata": {},
   "outputs": [],
   "source": [
    "f = h5py.File(dst,'r')\n",
    "depthData = np.array(f['depths']).transpose(0,2,1)"
   ]
  },
  {
   "cell_type": "code",
   "execution_count": null,
   "metadata": {},
   "outputs": [],
   "source": [
    "imageData = np.array(f['images']).transpose(0,3,2,1)"
   ]
  },
  {
   "cell_type": "code",
   "execution_count": null,
   "metadata": {},
   "outputs": [],
   "source": [
    "(imageData[0].transpose(2,1,0), 'RGB').save('images/'+str(0)+'.jpg')"
   ]
  },
  {
   "cell_type": "markdown",
   "metadata": {},
   "source": [
    "Converting the images and saving them into similar folder directory as cam vid lesson"
   ]
  },
  {
   "cell_type": "code",
   "execution_count": null,
   "metadata": {},
   "outputs": [],
   "source": [
    "def saveImage(x, i):\n",
    "    PIL.Image.fromarray(x, 'RGB').save('images/'+str(i)+'.jpg')   \n",
    "parallel(saveImage, imageData)"
   ]
  },
  {
   "cell_type": "code",
   "execution_count": null,
   "metadata": {},
   "outputs": [],
   "source": [
    "rang = depthData.max() - depthData.min()\n",
    "\n",
    "def saveImage(x, i):\n",
    "#     x = (x-depthData.min())/rang \n",
    "    x = pil2tensor(x,np.float32)\n",
    "    Image(x).save('labels/'+str(i)+'.jpg')   \n",
    "parallel(saveImage, depthData)"
   ]
  },
  {
   "cell_type": "markdown",
   "metadata": {},
   "source": [
    "## Setting up learner"
   ]
  },
  {
   "cell_type": "code",
   "execution_count": 3,
   "metadata": {},
   "outputs": [],
   "source": [
    "get_y_fn = lambda x: path_lbl/f'{x.stem}{x.suffix}'\n",
    "fnames = get_image_files(path_img)\n",
    "img_f = fnames[0]\n",
    "mask = open_mask(get_y_fn(img_f))\n",
    "src_size = np.array(mask.shape[1:])\n",
    "size = src_size // 2\n",
    "classes = np.arange(1)"
   ]
  },
  {
   "cell_type": "code",
   "execution_count": 4,
   "metadata": {},
   "outputs": [],
   "source": [
    "np.random.seed(2)\n",
    "data = (SegmentationItemList.from_folder(path_img, extensions='.jpg')\n",
    "       .split_by_rand_pct()\n",
    "       .label_from_func(get_y_fn, classes=classes)\n",
    "       .transform(get_transforms(), size=size, tfm_y=True)\n",
    "       .databunch(bs=10).normalize(imagenet_stats)\n",
    "      )"
   ]
  },
  {
   "cell_type": "markdown",
   "metadata": {},
   "source": [
    "The output variables from the dataset are meters and are mapped to 0-255 by the open mask function somehow. \n",
    "\n",
    "Using `do_y` in the normalise function didn't work above so I normalise the images in the loss function. \n",
    "\n",
    "I think I'll have to create a custom learner for this problem as the output needs to be continous."
   ]
  },
  {
   "cell_type": "code",
   "execution_count": 8,
   "metadata": {
    "scrolled": false
   },
   "outputs": [],
   "source": [
    "# Need to create your own Loss function here potentially\n",
    "\n",
    "def loss(i, t):\n",
    "    return ((t.float().div(255)-i)**2).mean()\n",
    "\n",
    "def acc(i, t):\n",
    "    r = (t.float().div(255)-i)**2 <= 0.05 # This number is arbitary\n",
    "    return r.float().mean()\n",
    "\n",
    "learn = unet_learner(data, models.resnet34, loss_func=loss, metrics=acc, callback_fns=ShowGraph)"
   ]
  },
  {
   "cell_type": "code",
   "execution_count": 6,
   "metadata": {
    "scrolled": true
   },
   "outputs": [
    {
     "data": {
      "text/html": [],
      "text/plain": [
       "<IPython.core.display.HTML object>"
      ]
     },
     "metadata": {},
     "output_type": "display_data"
    },
    {
     "name": "stdout",
     "output_type": "stream",
     "text": [
      "LR Finder is complete, type {learner_name}.recorder.plot() to see the graph.\n"
     ]
    },
    {
     "data": {
      "image/png": "[encoded data removed]",
      "text/plain": [
       "<Figure size 432x288 with 1 Axes>"
      ]
     },
     "metadata": {
      "needs_background": "light"
     },
     "output_type": "display_data"
    }
   ],
   "source": [
    "lr_find(learn, end_lr=1e-1)\n",
    "learn.recorder.plot()"
   ]
  },
  {
   "cell_type": "code",
   "execution_count": 7,
   "metadata": {},
   "outputs": [
    {
     "data": {
      "text/html": [
       "Total time: 01:54 <p><table border=\"1\" class=\"dataframe\">\n",
       "  <thead>\n",
       "    <tr style=\"text-align: left;\">\n",
       "      <th>epoch</th>\n",
       "      <th>train_loss</th>\n",
       "      <th>valid_loss</th>\n",
       "      <th>acc</th>\n",
       "      <th>time</th>\n",
       "    </tr>\n",
       "  </thead>\n",
       "  <tbody>\n",
       "    <tr>\n",
       "      <td>0</td>\n",
       "      <td>0.138422</td>\n",
       "      <td>0.091729</td>\n",
       "      <td>0.436066</td>\n",
       "      <td>00:39</td>\n",
       "    </tr>\n",
       "    <tr>\n",
       "      <td>1</td>\n",
       "      <td>0.094478</td>\n",
       "      <td>0.096987</td>\n",
       "      <td>0.441014</td>\n",
       "      <td>00:37</td>\n",
       "    </tr>\n",
       "    <tr>\n",
       "      <td>2</td>\n",
       "      <td>0.088568</td>\n",
       "      <td>0.087500</td>\n",
       "      <td>0.435298</td>\n",
       "      <td>00:37</td>\n",
       "    </tr>\n",
       "  </tbody>\n",
       "</table>"
      ],
      "text/plain": [
       "<IPython.core.display.HTML object>"
      ]
     },
     "metadata": {},
     "output_type": "display_data"
    },
    {
     "data": {
      "image/png": "[encoded data removed]",
      "text/plain": [
       "<Figure size 432x288 with 1 Axes>"
      ]
     },
     "metadata": {},
     "output_type": "display_data"
    }
   ],
   "source": [
    "learn.fit_one_cycle(3, slice(1e-5, 1e-3))"
   ]
  },
  {
   "cell_type": "markdown",
   "metadata": {},
   "source": [
    "# Conclusion\n",
    "\n",
    "The MSE Loss shows that the model was no where near to the correct answers. \n",
    "\n",
    "I think the unet_learner is not designed for continous problems. \n",
    "\n",
    "I could attempt to create classes based on distance but it would be better if I could hook up the original meters from the dataset and set it as the output. Looking at the loss would be more intuitive like this too.\n",
    "\n",
    "Using the Resnet Architecture definitely makes sense as the problem will often have objects lying around the house."
   ]
  }
 ],
 "metadata": {
  "kernelspec": {
   "display_name": "Python 3",
   "language": "python",
   "name": "python3"
  },
  "language_info": {
   "codemirror_mode": {
    "name": "ipython",
    "version": 3
   },
   "file_extension": ".py",
   "mimetype": "text/x-python",
   "name": "python",
   "nbconvert_exporter": "python",
   "pygments_lexer": "ipython3",
   "version": "3.7.2"
  }
 },
 "nbformat": 4,
 "nbformat_minor": 2
}
